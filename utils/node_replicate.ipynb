{
 "cells": [
  {
   "cell_type": "code",
   "execution_count": 6,
   "metadata": {},
   "outputs": [
    {
     "name": "stdout",
     "output_type": "stream",
     "text": [
      "https://replicate.delivery/czjl/XRy5E4ViYX6YE9rjPTQrvOLd3DdElIESdQS9gSuqdsso382E/output.webp\n"
     ]
    }
   ],
   "source": [
    "import Replicate from \"replicate\";\n",
    "const replicate = new Replicate({auth: \"r8_RMok0s0sEhaJJEl1GiQvkLuEnt1ClZr1xIt6T\"});\n",
    "\n",
    "let prompt = `a scene from ancient egypt\n",
    "very detailed; fountains, vines, leaves\n",
    "the pharaoh beholding his court at the height of its luxurious splendor; crowds; men; women; dancers, magicians, petitioners, beggars\n",
    "mural, mosaic\n",
    "he stands out upon his balcony, looking down on the city\n",
    "grandeur`\n",
    "\n",
    "const input = {\n",
    "    prompt: prompt,\n",
    "    numResults: 3\n",
    "};\n",
    "\n",
    "const output = await replicate.run(\"black-forest-labs/flux-pro\", { input });\n",
    "console.log(output)\n",
    "//=> \"https://bflapistorage.blob.core.windows.net/public/c8145..."
   ]
  }
 ],
 "metadata": {
  "kernelspec": {
   "display_name": "Deno",
   "language": "typescript",
   "name": "deno"
  },
  "language_info": {
   "codemirror_mode": "typescript",
   "file_extension": ".ts",
   "mimetype": "text/x.typescript",
   "name": "typescript",
   "nbconvert_exporter": "script",
   "pygments_lexer": "typescript",
   "version": "5.5.2"
  }
 },
 "nbformat": 4,
 "nbformat_minor": 2
}
