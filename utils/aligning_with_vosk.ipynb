{
 "cells": [
  {
   "cell_type": "code",
   "execution_count": 26,
   "metadata": {},
   "outputs": [
    {
     "data": {
      "text/plain": [
       "'[\"the flowers do fade and wanton fields to wayward winter reckoning yields a honey tongue a heart of gall is fancy spring but sorrow fall\"]'"
      ]
     },
     "execution_count": 26,
     "metadata": {},
     "output_type": "execute_result"
    }
   ],
   "source": [
    "import json\n",
    "import re\n",
    "\n",
    "poem = \"nymphs_reply\"\n",
    "poem_path = f\"../static/poems/{poem}/fulltext.txt\"\n",
    "source_poem = open(poem_path, \"r\").read()\n",
    "stanza_no = 3\n",
    "source_mp3 = f\"../static/poems/{poem}/stanza{stanza_no}.mp3\"\n",
    "source_wav = f\"../static/poems/{poem}/stanza{stanza_no}.wav\"\n",
    "MODEL_PATH = \"./vosk-model-small-en-us-0.15\"\n",
    "source_transcript = source_poem.split(\"\\n\\n\")[stanza_no - 1].replace(\"'s\", \"\")\n",
    "grammar_words = re.findall(r'\\w+', source_transcript.lower()) # + [\"[unk]\"]\n",
    "# grammar_str = json.dumps(grammar_words)\n",
    "grammar_str = json.dumps([\" \".join(grammar_words)])\n",
    "source_transcript\n",
    "grammar_str"
   ]
  },
  {
   "cell_type": "code",
   "execution_count": 27,
   "metadata": {},
   "outputs": [
    {
     "name": "stderr",
     "output_type": "stream",
     "text": [
      "LOG (VoskAPI:ReadDataFiles():model.cc:213) Decoding params beam=10 max-active=3000 lattice-beam=2\n",
      "LOG (VoskAPI:ReadDataFiles():model.cc:216) Silence phones 1:2:3:4:5:6:7:8:9:10\n",
      "LOG (VoskAPI:RemoveOrphanNodes():nnet-nnet.cc:948) Removed 0 orphan nodes.\n",
      "LOG (VoskAPI:RemoveOrphanComponents():nnet-nnet.cc:847) Removing 0 orphan components.\n",
      "LOG (VoskAPI:ReadDataFiles():model.cc:248) Loading i-vector extractor from ./vosk-model-small-en-us-0.15/ivector/final.ie\n",
      "LOG (VoskAPI:ComputeDerivedVars():ivector-extractor.cc:183) Computing derived variables for iVector extractor\n",
      "LOG (VoskAPI:ComputeDerivedVars():ivector-extractor.cc:204) Done.\n",
      "LOG (VoskAPI:ReadDataFiles():model.cc:282) Loading HCL and G from ./vosk-model-small-en-us-0.15/graph/HCLr.fst ./vosk-model-small-en-us-0.15/graph/Gr.fst\n",
      "LOG (VoskAPI:ReadDataFiles():model.cc:308) Loading winfo ./vosk-model-small-en-us-0.15/graph/phones/word_boundary.int\n"
     ]
    },
    {
     "name": "stdout",
     "output_type": "stream",
     "text": [
      "[{'conf': 1.0, 'end': 0.66, 'start': 0.51, 'word': 'the'}, {'conf': 1.0, 'end': 1.02, 'start': 0.66, 'word': 'flowers'}, {'conf': 1.0, 'end': 1.14, 'start': 1.02, 'word': 'do'}, {'conf': 1.0, 'end': 1.53, 'start': 1.14, 'word': 'fade'}, {'conf': 1.0, 'end': 1.65, 'start': 1.53, 'word': 'and'}, {'conf': 1.0, 'end': 2.07, 'start': 1.65, 'word': 'wanton'}, {'conf': 1.0, 'end': 2.67, 'start': 2.07, 'word': 'fields'}, {'conf': 1.0, 'end': 2.82, 'start': 2.67, 'word': 'to'}, {'conf': 1.0, 'end': 3.27, 'start': 2.82, 'word': 'wayward'}, {'conf': 1.0, 'end': 3.66, 'start': 3.27, 'word': 'winter'}, {'conf': 1.0, 'end': 4.08, 'start': 3.66, 'word': 'reckoning'}, {'conf': 1.0, 'end': 4.71, 'start': 4.08, 'word': 'yields'}, {'conf': 1.0, 'end': 5.04, 'start': 4.92, 'word': 'a'}, {'conf': 1.0, 'end': 5.34, 'start': 5.04, 'word': 'honey'}, {'conf': 1.0, 'end': 5.82, 'start': 5.34, 'word': 'tongue'}, {'conf': 1.0, 'end': 5.97, 'start': 5.85, 'word': 'a'}, {'conf': 1.0, 'end': 6.27, 'start': 5.97, 'word': 'heart'}, {'conf': 1.0, 'end': 6.39, 'start': 6.27, 'word': 'of'}, {'conf': 1.0, 'end': 7.02, 'start': 6.39, 'word': 'gall'}, {'conf': 1.0, 'end': 7.32, 'start': 7.11, 'word': 'is'}, {'conf': 1.0, 'end': 7.8, 'start': 7.32, 'word': 'fancy'}, {'conf': 1.0, 'end': 8.4, 'start': 7.8, 'word': 'spring'}, {'conf': 1.0, 'end': 8.61, 'start': 8.4, 'word': 'but'}, {'conf': 1.0, 'end': 9.06, 'start': 8.61, 'word': 'sorrow'}, {'conf': 1.0, 'end': 9.72, 'start': 9.12, 'word': 'fall'}]\n",
      "0 the 0.51 0.66\n",
      "1 flowers 0.66 1.02\n",
      "2 do 1.02 1.14\n",
      "3 fade 1.14 1.53\n",
      "4 and 1.53 1.65\n",
      "5 wanton 1.65 2.07\n",
      "6 fields 2.07 2.67\n",
      "7 to 2.67 2.82\n",
      "8 wayward 2.82 3.27\n",
      "9 winter 3.27 3.66\n",
      "10 reckoning 3.66 4.08\n",
      "11 yields 4.08 4.71\n",
      "12 a 4.92 5.04\n",
      "13 honey 5.04 5.34\n",
      "14 tongue 5.34 5.82\n",
      "15 a 5.85 5.97\n",
      "16 heart 5.97 6.27\n",
      "17 of 6.27 6.39\n",
      "18 gall 6.39 7.02\n",
      "19 is 7.11 7.32\n",
      "20 fancy 7.32 7.8\n",
      "21 spring 7.8 8.4\n",
      "22 but 8.4 8.61\n",
      "23 sorrow 8.61 9.06\n",
      "24 fall 9.12 9.72\n"
     ]
    },
    {
     "name": "stderr",
     "output_type": "stream",
     "text": [
      "LOG (VoskAPI:UpdateGrammarFst():recognizer.cc:287) [\"the flowers do fade and wanton fields to wayward winter reckoning yields a honey tongue a heart of gall is fancy spring but sorrow fall\"]\n",
      "LOG (VoskAPI:Estimate():language_model.cc:142) Estimating language model with ngram-order=2, discount=0.5\n",
      "LOG (VoskAPI:OutputToFst():language_model.cc:209) Created language model with 25 states and 72 arcs.\n"
     ]
    }
   ],
   "source": [
    "import vosk\n",
    "import wave\n",
    "import json\n",
    "\n",
    "timestamps = []\n",
    "\n",
    "\n",
    "wf = wave.open(source_wav, \"rb\")\n",
    "model = vosk.Model(MODEL_PATH)\n",
    "recognizer = vosk.KaldiRecognizer(model, wf.getframerate())\n",
    "recognizer.SetWords(True)\n",
    "recognizer.SetGrammar(grammar_str)\n",
    "\n",
    "while True:\n",
    "    data = wf.readframes(4000)\n",
    "    if recognizer.AcceptWaveform(data):\n",
    "        result = json.loads(recognizer.Result())\n",
    "        words = result.get(\"result\", [])\n",
    "        timestamps += words\n",
    "    else:\n",
    "        pass\n",
    "    if len(data) == 0:\n",
    "        break\n",
    "# finalize the recognizer\n",
    "result = recognizer.FinalResult()\n",
    "result = json.loads(result)\n",
    "words = result.get(\"result\", [])\n",
    "timestamps += words\n",
    "print(timestamps)\n",
    "for i, timestamp in enumerate(timestamps):\n",
    "    print(i, timestamp[\"word\"], timestamp[\"start\"], timestamp[\"end\"])"
   ]
  },
  {
   "cell_type": "code",
   "execution_count": 28,
   "metadata": {},
   "outputs": [
    {
     "data": {
      "text/plain": [
       "25"
      ]
     },
     "execution_count": 28,
     "metadata": {},
     "output_type": "execute_result"
    }
   ],
   "source": [
    "timestamps2 = [entry.copy() for entry in timestamps]\n",
    "# timestamps2[11][\"word\"] = \"kirtle\"\n",
    "# timestamps2[15][\"word\"] = \"posies\"\n",
    "# timestamps2.pop(12)\n",
    "# timestamps2[17][\"word\"] = \"becometh\"\n",
    "# timestamps2.pop(18)\n",
    "# timestamps2[5][\"word\"] = \"trunkless\"\n",
    "# timestamps2[5][\"end\"] = timestamps2[7][\"end\"]\n",
    "# timestamps2.pop(6)\n",
    "# timestamps2.pop(6)\n",
    "# timestamps2 = timestamps2[:10] + [{\"word\": \"a\", \"start\": 4.31, \"end\": 4.40, \"conf\": 1.0}] + timestamps2[10:]\n",
    "# timestamps2.pop(21)\n",
    "# timestamps2[-1][\"end\"] += 0.25\n",
    "len(timestamps2)"
   ]
  },
  {
   "cell_type": "code",
   "execution_count": 29,
   "metadata": {},
   "outputs": [],
   "source": [
    "outfile = f\"../static/poems/{poem}/stanza{stanza_no}_timestamps.json\"\n",
    "with open(outfile, \"w\") as f:\n",
    "    json.dump(timestamps2, f, indent=4)"
   ]
  }
 ],
 "metadata": {
  "kernelspec": {
   "display_name": "Python 3",
   "language": "python",
   "name": "python3"
  },
  "language_info": {
   "codemirror_mode": {
    "name": "ipython",
    "version": 3
   },
   "file_extension": ".py",
   "mimetype": "text/x-python",
   "name": "python",
   "nbconvert_exporter": "python",
   "pygments_lexer": "ipython3",
   "version": "3.12.3"
  }
 },
 "nbformat": 4,
 "nbformat_minor": 2
}
