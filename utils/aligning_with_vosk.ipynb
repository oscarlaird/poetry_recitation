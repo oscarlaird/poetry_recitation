{
 "cells": [
  {
   "cell_type": "code",
   "execution_count": 11,
   "metadata": {},
   "outputs": [
    {
     "data": {
      "text/plain": [
       "'[\"time drives the flocks from field to fold when rivers rage and rocks grow cold and philomel becometh dumb the rest complains of cares to come\"]'"
      ]
     },
     "execution_count": 11,
     "metadata": {},
     "output_type": "execute_result"
    }
   ],
   "source": [
    "import json\n",
    "import re\n",
    "\n",
    "poem = \"nymphs_reply\"\n",
    "poem_path = f\"../static/poems/{poem}/fulltext.txt\"\n",
    "source_poem = open(poem_path, \"r\").read()\n",
    "stanza_no = 2\n",
    "source_mp3 = f\"../static/poems/{poem}/stanza{stanza_no}.mp3\"\n",
    "source_wav = f\"../static/poems/{poem}/stanza{stanza_no}.wav\"\n",
    "MODEL_PATH = \"./vosk-model-small-en-us-0.15\"\n",
    "source_transcript = source_poem.split(\"\\n\\n\")[stanza_no - 1].replace(\"’\", \"\")\n",
    "grammar_words = re.findall(r'\\w+', source_transcript.lower()) # + [\"[unk]\"]\n",
    "# grammar_str = json.dumps(grammar_words)\n",
    "grammar_str = json.dumps([\" \".join(grammar_words)])\n",
    "source_transcript\n",
    "grammar_str"
   ]
  },
  {
   "cell_type": "code",
   "execution_count": 12,
   "metadata": {},
   "outputs": [
    {
     "name": "stderr",
     "output_type": "stream",
     "text": [
      "LOG (VoskAPI:ReadDataFiles():model.cc:213) Decoding params beam=10 max-active=3000 lattice-beam=2\n",
      "LOG (VoskAPI:ReadDataFiles():model.cc:216) Silence phones 1:2:3:4:5:6:7:8:9:10\n",
      "LOG (VoskAPI:RemoveOrphanNodes():nnet-nnet.cc:948) Removed 0 orphan nodes.\n",
      "LOG (VoskAPI:RemoveOrphanComponents():nnet-nnet.cc:847) Removing 0 orphan components.\n",
      "LOG (VoskAPI:ReadDataFiles():model.cc:248) Loading i-vector extractor from ./vosk-model-small-en-us-0.15/ivector/final.ie\n",
      "LOG (VoskAPI:ComputeDerivedVars():ivector-extractor.cc:183) Computing derived variables for iVector extractor\n",
      "LOG (VoskAPI:ComputeDerivedVars():ivector-extractor.cc:204) Done.\n",
      "LOG (VoskAPI:ReadDataFiles():model.cc:282) Loading HCL and G from ./vosk-model-small-en-us-0.15/graph/HCLr.fst ./vosk-model-small-en-us-0.15/graph/Gr.fst\n",
      "LOG (VoskAPI:ReadDataFiles():model.cc:308) Loading winfo ./vosk-model-small-en-us-0.15/graph/phones/word_boundary.int\n",
      "LOG (VoskAPI:UpdateGrammarFst():recognizer.cc:287) [\"time drives the flocks from field to fold when rivers rage and rocks grow cold and philomel becometh dumb the rest complains of cares to come\"]\n",
      "WARNING (VoskAPI:UpdateGrammarFst():recognizer.cc:308) Ignoring word missing in vocabulary: 'philomel'\n",
      "WARNING (VoskAPI:UpdateGrammarFst():recognizer.cc:308) Ignoring word missing in vocabulary: 'becometh'\n",
      "LOG (VoskAPI:Estimate():language_model.cc:142) Estimating language model with ngram-order=2, discount=0.5\n",
      "LOG (VoskAPI:OutputToFst():language_model.cc:209) Created language model with 22 states and 65 arcs.\n"
     ]
    },
    {
     "name": "stdout",
     "output_type": "stream",
     "text": [
      "[{'conf': 1.0, 'end': 0.72, 'start': 0.36, 'word': 'time'}, {'conf': 1.0, 'end': 1.17, 'start': 0.72, 'word': 'drives'}, {'conf': 1.0, 'end': 1.29, 'start': 1.17, 'word': 'the'}, {'conf': 1.0, 'end': 1.77, 'start': 1.29, 'word': 'flocks'}, {'conf': 1.0, 'end': 1.95, 'start': 1.77, 'word': 'from'}, {'conf': 1.0, 'end': 2.31, 'start': 1.95, 'word': 'field'}, {'conf': 1.0, 'end': 2.49, 'start': 2.37, 'word': 'to'}, {'conf': 1.0, 'end': 3.03, 'start': 2.49, 'word': 'fold'}, {'conf': 1.0, 'end': 3.21, 'start': 3.03, 'word': 'when'}, {'conf': 1.0, 'end': 3.51, 'start': 3.21, 'word': 'rivers'}, {'conf': 1.0, 'end': 3.93, 'start': 3.51, 'word': 'rage'}, {'conf': 1.0, 'end': 4.02, 'start': 3.93, 'word': 'and'}, {'conf': 1.0, 'end': 4.41, 'start': 4.02, 'word': 'rocks'}, {'conf': 1.0, 'end': 4.59, 'start': 4.41, 'word': 'grow'}, {'conf': 1.0, 'end': 5.19, 'start': 4.59, 'word': 'cold'}, {'conf': 1.0, 'end': 5.85, 'start': 5.58, 'word': 'and'}, {'conf': 1.0, 'end': 6.492697, 'start': 5.88, 'word': 'field'}, {'conf': 0.711613, 'end': 6.6, 'start': 6.51, 'word': 'to'}, {'conf': 1.0, 'end': 6.81, 'start': 6.6, 'word': 'come'}, {'conf': 1.0, 'end': 7.44, 'start': 6.93, 'word': 'dumb'}, {'conf': 1.0, 'end': 7.92, 'start': 7.8, 'word': 'the'}, {'conf': 1.0, 'end': 8.25, 'start': 7.92, 'word': 'rest'}, {'conf': 1.0, 'end': 8.82, 'start': 8.25, 'word': 'complains'}, {'conf': 1.0, 'end': 8.97, 'start': 8.85, 'word': 'of'}, {'conf': 1.0, 'end': 9.36, 'start': 8.97, 'word': 'cares'}, {'conf': 1.0, 'end': 9.48, 'start': 9.36, 'word': 'to'}, {'conf': 1.0, 'end': 9.93, 'start': 9.48, 'word': 'come'}]\n",
      "0 time 0.36 0.72\n",
      "1 drives 0.72 1.17\n",
      "2 the 1.17 1.29\n",
      "3 flocks 1.29 1.77\n",
      "4 from 1.77 1.95\n",
      "5 field 1.95 2.31\n",
      "6 to 2.37 2.49\n",
      "7 fold 2.49 3.03\n",
      "8 when 3.03 3.21\n",
      "9 rivers 3.21 3.51\n",
      "10 rage 3.51 3.93\n",
      "11 and 3.93 4.02\n",
      "12 rocks 4.02 4.41\n",
      "13 grow 4.41 4.59\n",
      "14 cold 4.59 5.19\n",
      "15 and 5.58 5.85\n",
      "16 field 5.88 6.492697\n",
      "17 to 6.51 6.6\n",
      "18 come 6.6 6.81\n",
      "19 dumb 6.93 7.44\n",
      "20 the 7.8 7.92\n",
      "21 rest 7.92 8.25\n",
      "22 complains 8.25 8.82\n",
      "23 of 8.85 8.97\n",
      "24 cares 8.97 9.36\n",
      "25 to 9.36 9.48\n",
      "26 come 9.48 9.93\n"
     ]
    }
   ],
   "source": [
    "import vosk\n",
    "import wave\n",
    "import json\n",
    "\n",
    "timestamps = []\n",
    "\n",
    "\n",
    "wf = wave.open(source_wav, \"rb\")\n",
    "model = vosk.Model(MODEL_PATH)\n",
    "recognizer = vosk.KaldiRecognizer(model, wf.getframerate())\n",
    "recognizer.SetWords(True)\n",
    "recognizer.SetGrammar(grammar_str)\n",
    "\n",
    "while True:\n",
    "    data = wf.readframes(4000)\n",
    "    if recognizer.AcceptWaveform(data):\n",
    "        result = json.loads(recognizer.Result())\n",
    "        words = result.get(\"result\", [])\n",
    "        timestamps += words\n",
    "    else:\n",
    "        pass\n",
    "    if len(data) == 0:\n",
    "        break\n",
    "# finalize the recognizer\n",
    "result = recognizer.FinalResult()\n",
    "result = json.loads(result)\n",
    "words = result.get(\"result\", [])\n",
    "timestamps += words\n",
    "print(timestamps)\n",
    "for i, timestamp in enumerate(timestamps):\n",
    "    print(i, timestamp[\"word\"], timestamp[\"start\"], timestamp[\"end\"])"
   ]
  },
  {
   "cell_type": "code",
   "execution_count": 13,
   "metadata": {},
   "outputs": [
    {
     "data": {
      "text/plain": [
       "26"
      ]
     },
     "execution_count": 13,
     "metadata": {},
     "output_type": "execute_result"
    }
   ],
   "source": [
    "timestamps2 = [entry.copy() for entry in timestamps]\n",
    "timestamps2[16][\"word\"] = \"philomel\"\n",
    "timestamps2[17][\"word\"] = \"becometh\"\n",
    "timestamps2.pop(18)\n",
    "# timestamps2[5][\"word\"] = \"trunkless\"\n",
    "# timestamps2[5][\"end\"] = timestamps2[7][\"end\"]\n",
    "# timestamps2.pop(6)\n",
    "# timestamps2.pop(6)\n",
    "# timestamps2 = timestamps2[:10] + [{\"word\": \"a\", \"start\": 4.31, \"end\": 4.40, \"conf\": 1.0}] + timestamps2[10:]\n",
    "# timestamps2.pop(21)\n",
    "# timestamps2[-1][\"end\"] += 0.25\n",
    "len(timestamps2)"
   ]
  },
  {
   "cell_type": "code",
   "execution_count": 14,
   "metadata": {},
   "outputs": [],
   "source": [
    "outfile = f\"../static/poems/{poem}/stanza{stanza_no}_timestamps.json\"\n",
    "with open(outfile, \"w\") as f:\n",
    "    json.dump(timestamps2, f, indent=4)"
   ]
  }
 ],
 "metadata": {
  "kernelspec": {
   "display_name": "Python 3",
   "language": "python",
   "name": "python3"
  },
  "language_info": {
   "codemirror_mode": {
    "name": "ipython",
    "version": 3
   },
   "file_extension": ".py",
   "mimetype": "text/x-python",
   "name": "python",
   "nbconvert_exporter": "python",
   "pygments_lexer": "ipython3",
   "version": "3.10.12"
  }
 },
 "nbformat": 4,
 "nbformat_minor": 2
}
